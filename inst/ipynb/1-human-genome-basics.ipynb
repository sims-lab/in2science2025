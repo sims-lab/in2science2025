{
 "cells": [
  {
   "cell_type": "markdown",
   "id": "75605c7b",
   "metadata": {},
   "source": [
    "Create a directory called `data` to place downloaded files."
   ]
  },
  {
   "cell_type": "code",
   "execution_count": null,
   "id": "6e1a7f75",
   "metadata": {},
   "outputs": [],
   "source": [
    "import os\n",
    "os.makedirs(\"data\", exist_ok=True)"
   ]
  },
  {
   "cell_type": "markdown",
   "id": "81169099",
   "metadata": {},
   "source": [
    "Download the human genome sequence (at least a version of it)."
   ]
  },
  {
   "cell_type": "code",
   "execution_count": null,
   "id": "064be3f0",
   "metadata": {},
   "outputs": [],
   "source": [
    "import urllib.request\n",
    "\n",
    "url = \"https://ftp.ensembl.org/pub/release-114/fasta/homo_sapiens/dna/Homo_sapiens.GRCh38.dna.primary_assembly.fa.gz\"\n",
    "filename = \"data/grch38.fa.gz\"\n",
    "\n",
    "urllib.request.urlretrieve(url, filename)"
   ]
  },
  {
   "cell_type": "markdown",
   "id": "69d66de2",
   "metadata": {},
   "source": [
    "List the contents of the `data/` directory, to make sure the downloaded file is there."
   ]
  },
  {
   "cell_type": "code",
   "execution_count": null,
   "id": "b766bed6",
   "metadata": {},
   "outputs": [],
   "source": [
    "os.listdir(\"data\")"
   ]
  },
  {
   "cell_type": "markdown",
   "id": "3ccf0fbf",
   "metadata": {},
   "source": [
    "Read and display the first few lines of the genome sequence file."
   ]
  },
  {
   "cell_type": "code",
   "execution_count": null,
   "id": "a572fc5f",
   "metadata": {},
   "outputs": [],
   "source": [
    "import gzip\n",
    "\n",
    "filename = \"data/grch38.fa.gz\"\n",
    "\n",
    "with gzip.open(filename, \"rt\") as f:  # \"rt\" = read text\n",
    "    for i, line in enumerate(f):\n",
    "        print(line.strip())\n",
    "        if i >= 4:  # 5 lines (0 to 4)\n",
    "            break"
   ]
  },
  {
   "cell_type": "markdown",
   "id": "fb3669c7",
   "metadata": {},
   "source": [
    "Questions:\n",
    "\n",
    "- How do you read the output above?\n",
    "- What do you think is going on?"
   ]
  },
  {
   "cell_type": "markdown",
   "id": "d2d13c8f",
   "metadata": {},
   "source": [
    "Answer:\n",
    "\n"
   ]
  },
  {
   "cell_type": "markdown",
   "id": "0e11d084",
   "metadata": {},
   "source": [
    "Count the number of nucleotides in each chromosome to report their respective length."
   ]
  },
  {
   "cell_type": "code",
   "execution_count": null,
   "id": "fbf2232c",
   "metadata": {},
   "outputs": [],
   "source": [
    "filename = \"data/grch38.fa.gz\"\n",
    "\n",
    "with gzip.open(filename, 'rt') as f:\n",
    "    chrom_name = None\n",
    "    seq_len = 0\n",
    "    for line in f:\n",
    "        line = line.strip()\n",
    "        if line.startswith('>'):\n",
    "            if chrom_name is not None:\n",
    "                print(\"chromosome\", chrom_name, \"length is\", seq_len)\n",
    "            chrom_name = line[1:].split()[0]\n",
    "            seq_len = 0\n",
    "        else:\n",
    "            seq_len += len(line)"
   ]
  },
  {
   "cell_type": "markdown",
   "id": "0936f312",
   "metadata": {},
   "source": [
    "Bonus:\n",
    "\n",
    "1. The code above will display a lot of lines for chromosome with strange names.\n",
    "   These are called 'contigs'.\n",
    "   They are bits of genome that have been detected but not yet assigned to a location in the genome.\n",
    "   Stop reading the file after chromosome 'Y'.\n",
    "\n",
    "2. The chromosome length numbers can be hard to read.\n",
    "   Reformat them with comma (`,`) as separator for thousands and millions."
   ]
  },
  {
   "cell_type": "code",
   "execution_count": null,
   "id": "1e6ac7a1",
   "metadata": {},
   "outputs": [],
   "source": [
    "filename = \"data/grch38.fa.gz\"\n",
    "\n",
    "with gzip.open(filename, 'rt') as f:\n",
    "    chrom_name = None\n",
    "    seq_len = 0\n",
    "    for line in f:\n",
    "        line = line.strip()\n",
    "        if line.startswith('>'):\n",
    "            if chrom_name is not None:\n",
    "                print(\"chromosome\", chrom_name, \"length is\", f\"{seq_len:,}\")\n",
    "                if chrom_name == \"Y\": # stop after processing chromosome Y\n",
    "                    break\n",
    "            chrom_name = line[1:].split()[0]\n",
    "            seq_len = 0\n",
    "        else:\n",
    "            seq_len += len(line)"
   ]
  },
  {
   "cell_type": "code",
   "execution_count": null,
   "id": "4bb16243",
   "metadata": {},
   "outputs": [],
   "source": []
  }
 ],
 "metadata": {
  "kernelspec": {
   "display_name": "Python 3.10.12 - rstudio",
   "language": "python",
   "name": "rstudio-user-3.10.12"
  },
  "language_info": {
   "codemirror_mode": {
    "name": "ipython",
    "version": 3
   },
   "file_extension": ".py",
   "mimetype": "text/x-python",
   "name": "python",
   "nbconvert_exporter": "python",
   "pygments_lexer": "ipython3",
   "version": "3.10.12"
  }
 },
 "nbformat": 4,
 "nbformat_minor": 5
}
